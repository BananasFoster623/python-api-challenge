{
 "cells": [
  {
   "cell_type": "markdown",
   "metadata": {},
   "source": [
    "# VacationPy\n",
    "----\n",
    "\n",
    "#### Note\n",
    "* Keep an eye on your API usage. Use https://developers.google.com/maps/reporting/gmp-reporting as reference for how to monitor your usage and billing.\n",
    "\n",
    "* Instructions have been included for each segment. You do not have to follow them exactly, but they are included to help you think through the steps."
   ]
  },
  {
   "cell_type": "code",
   "execution_count": 29,
   "metadata": {},
   "outputs": [],
   "source": [
    "# Dependencies and Setup\n",
    "import matplotlib.pyplot as plt\n",
    "import pandas as pd\n",
    "import numpy as np\n",
    "from pathlib import Path\n",
    "import datetime\n",
    "import requests\n",
    "import json\n",
    "import gmaps\n",
    "import os\n",
    "\n",
    "# Import API key\n",
    "from api_keys import g_key"
   ]
  },
  {
   "cell_type": "markdown",
   "metadata": {},
   "source": [
    "### Store Part I results into DataFrame\n",
    "* Load the csv exported in Part I to a DataFrame"
   ]
  },
  {
   "cell_type": "code",
   "execution_count": 30,
   "metadata": {},
   "outputs": [
    {
     "data": {
      "text/html": [
       "<div>\n",
       "<style scoped>\n",
       "    .dataframe tbody tr th:only-of-type {\n",
       "        vertical-align: middle;\n",
       "    }\n",
       "\n",
       "    .dataframe tbody tr th {\n",
       "        vertical-align: top;\n",
       "    }\n",
       "\n",
       "    .dataframe thead th {\n",
       "        text-align: right;\n",
       "    }\n",
       "</style>\n",
       "<table border=\"1\" class=\"dataframe\">\n",
       "  <thead>\n",
       "    <tr style=\"text-align: right;\">\n",
       "      <th></th>\n",
       "      <th>Long Guess</th>\n",
       "      <th>CityName</th>\n",
       "      <th>CountryCode</th>\n",
       "      <th>Temperature</th>\n",
       "      <th>Humidity</th>\n",
       "      <th>Cloudiness</th>\n",
       "      <th>Wind Speed</th>\n",
       "      <th>Lat Real</th>\n",
       "      <th>Long Real</th>\n",
       "      <th>Datetime</th>\n",
       "    </tr>\n",
       "    <tr>\n",
       "      <th>Lat Guess</th>\n",
       "      <th></th>\n",
       "      <th></th>\n",
       "      <th></th>\n",
       "      <th></th>\n",
       "      <th></th>\n",
       "      <th></th>\n",
       "      <th></th>\n",
       "      <th></th>\n",
       "      <th></th>\n",
       "      <th></th>\n",
       "    </tr>\n",
       "  </thead>\n",
       "  <tbody>\n",
       "    <tr>\n",
       "      <th>-29.922669</th>\n",
       "      <td>154.099067</td>\n",
       "      <td>coffs harbour</td>\n",
       "      <td>au</td>\n",
       "      <td>69.80</td>\n",
       "      <td>73.0</td>\n",
       "      <td>90.0</td>\n",
       "      <td>10.29</td>\n",
       "      <td>-30.30</td>\n",
       "      <td>153.13</td>\n",
       "      <td>1.603847e+09</td>\n",
       "    </tr>\n",
       "    <tr>\n",
       "      <th>59.795476</th>\n",
       "      <td>93.428505</td>\n",
       "      <td>severo-yeniseyskiy</td>\n",
       "      <td>ru</td>\n",
       "      <td>21.90</td>\n",
       "      <td>97.0</td>\n",
       "      <td>100.0</td>\n",
       "      <td>12.19</td>\n",
       "      <td>60.37</td>\n",
       "      <td>93.04</td>\n",
       "      <td>1.603847e+09</td>\n",
       "    </tr>\n",
       "    <tr>\n",
       "      <th>-27.510159</th>\n",
       "      <td>174.227503</td>\n",
       "      <td>kaeo</td>\n",
       "      <td>nz</td>\n",
       "      <td>72.00</td>\n",
       "      <td>73.0</td>\n",
       "      <td>59.0</td>\n",
       "      <td>5.01</td>\n",
       "      <td>-35.10</td>\n",
       "      <td>173.78</td>\n",
       "      <td>1.603847e+09</td>\n",
       "    </tr>\n",
       "    <tr>\n",
       "      <th>80.980629</th>\n",
       "      <td>-163.606161</td>\n",
       "      <td>barrow</td>\n",
       "      <td>us</td>\n",
       "      <td>30.20</td>\n",
       "      <td>74.0</td>\n",
       "      <td>75.0</td>\n",
       "      <td>25.28</td>\n",
       "      <td>71.29</td>\n",
       "      <td>-156.79</td>\n",
       "      <td>1.603847e+09</td>\n",
       "    </tr>\n",
       "    <tr>\n",
       "      <th>-18.084154</th>\n",
       "      <td>-75.935205</td>\n",
       "      <td>acari</td>\n",
       "      <td>pe</td>\n",
       "      <td>66.45</td>\n",
       "      <td>67.0</td>\n",
       "      <td>79.0</td>\n",
       "      <td>3.98</td>\n",
       "      <td>-15.43</td>\n",
       "      <td>-74.62</td>\n",
       "      <td>1.603847e+09</td>\n",
       "    </tr>\n",
       "  </tbody>\n",
       "</table>\n",
       "</div>"
      ],
      "text/plain": [
       "            Long Guess            CityName CountryCode  Temperature  Humidity  \\\n",
       "Lat Guess                                                                       \n",
       "-29.922669  154.099067       coffs harbour          au        69.80      73.0   \n",
       " 59.795476   93.428505  severo-yeniseyskiy          ru        21.90      97.0   \n",
       "-27.510159  174.227503                kaeo          nz        72.00      73.0   \n",
       " 80.980629 -163.606161              barrow          us        30.20      74.0   \n",
       "-18.084154  -75.935205               acari          pe        66.45      67.0   \n",
       "\n",
       "            Cloudiness  Wind Speed  Lat Real  Long Real      Datetime  \n",
       "Lat Guess                                                              \n",
       "-29.922669        90.0       10.29    -30.30     153.13  1.603847e+09  \n",
       " 59.795476       100.0       12.19     60.37      93.04  1.603847e+09  \n",
       "-27.510159        59.0        5.01    -35.10     173.78  1.603847e+09  \n",
       " 80.980629        75.0       25.28     71.29    -156.79  1.603847e+09  \n",
       "-18.084154        79.0        3.98    -15.43     -74.62  1.603847e+09  "
      ]
     },
     "execution_count": 30,
     "metadata": {},
     "output_type": "execute_result"
    }
   ],
   "source": [
    "readpath = Path.cwd() / 'cities.csv'\n",
    "df = pd.read_csv(readpath, index_col=0)\n",
    "df.head()"
   ]
  },
  {
   "cell_type": "markdown",
   "metadata": {},
   "source": [
    "### Humidity Heatmap\n",
    "* Configure gmaps.\n",
    "* Use the Lat and Lng as locations and Humidity as the weight.\n",
    "* Add Heatmap layer to map."
   ]
  },
  {
   "cell_type": "code",
   "execution_count": 31,
   "metadata": {},
   "outputs": [],
   "source": [
    "# Configure gmaps\n",
    "gmaps.configure(api_key=g_key)"
   ]
  },
  {
   "cell_type": "code",
   "execution_count": 32,
   "metadata": {},
   "outputs": [
    {
     "data": {
      "application/vnd.jupyter.widget-view+json": {
       "model_id": "78c59b0c0aec4840aaec5477f960033c",
       "version_major": 2,
       "version_minor": 0
      },
      "text/plain": [
       "Figure(layout=FigureLayout(height='420px'))"
      ]
     },
     "metadata": {},
     "output_type": "display_data"
    }
   ],
   "source": [
    "Humiditylocations = df[['Lat Real', 'Long Real']]\n",
    "weights = df['Humidity']*10000\n",
    "fig = gmaps.figure()\n",
    "fig.add_layer(gmaps.heatmap_layer(Humiditylocations, weights=weights, point_radius=20))\n",
    "fig"
   ]
  },
  {
   "cell_type": "markdown",
   "metadata": {},
   "source": [
    "### Create new DataFrame fitting weather criteria\n",
    "* Narrow down the cities to fit weather conditions.\n",
    "    - 65-85 F\n",
    "    - Wind Speed <15\n",
    "    - 50% Cloudiness\n",
    "* Drop any rows will null values."
   ]
  },
  {
   "cell_type": "code",
   "execution_count": 33,
   "metadata": {},
   "outputs": [
    {
     "name": "stdout",
     "output_type": "stream",
     "text": [
      "The remaining number of cities that fit our criteria is 60\n"
     ]
    }
   ],
   "source": [
    "# Filter a COPY of the original dataframe based on above parameters for a \"perfect day\"\n",
    "df_copy = df.copy()\n",
    "df_copy = df_copy.loc[df_copy['Temperature'] >= 70 ]\n",
    "df_copy = df_copy.loc[df_copy['Temperature'] <= 85 ]\n",
    "df_copy = df_copy.loc[df_copy['Wind Speed'] <= 10]\n",
    "df_copy = df_copy.loc[df_copy['Cloudiness'] <= 50]\n",
    "print(f'The remaining number of cities that fit our criteria is {len(df_copy)}')\n",
    "df_copy.to_csv(Path.cwd() / 'testing.csv')"
   ]
  },
  {
   "cell_type": "markdown",
   "metadata": {},
   "source": [
    "### Hotel Map\n",
    "* Store into variable named `hotel_df`.\n",
    "* Add a \"Hotel Name\" column to the DataFrame.\n",
    "* Set parameters to search for hotels with 5000 meters.\n",
    "* Hit the Google Places API for each city's coordinates.\n",
    "* Store the first Hotel result into the DataFrame.\n",
    "* Plot markers on top of the heatmap."
   ]
  },
  {
   "cell_type": "code",
   "execution_count": 34,
   "metadata": {},
   "outputs": [],
   "source": [
    "# Set up our basic query\n",
    "base_url = \"https://maps.googleapis.com/maps/api/place/nearbysearch/json\"\n",
    "params = {\n",
    "    \"keyword\": \"hotel\",\n",
    "    \"distance\": 5000,\n",
    "    \"rankby\": \"distance\",\n",
    "    \"key\": g_key\n",
    "}"
   ]
  },
  {
   "cell_type": "code",
   "execution_count": 35,
   "metadata": {},
   "outputs": [
    {
     "data": {
      "text/html": [
       "<div>\n",
       "<style scoped>\n",
       "    .dataframe tbody tr th:only-of-type {\n",
       "        vertical-align: middle;\n",
       "    }\n",
       "\n",
       "    .dataframe tbody tr th {\n",
       "        vertical-align: top;\n",
       "    }\n",
       "\n",
       "    .dataframe thead th {\n",
       "        text-align: right;\n",
       "    }\n",
       "</style>\n",
       "<table border=\"1\" class=\"dataframe\">\n",
       "  <thead>\n",
       "    <tr style=\"text-align: right;\">\n",
       "      <th></th>\n",
       "      <th>Lat Guess</th>\n",
       "      <th>Long Guess</th>\n",
       "      <th>CityName</th>\n",
       "      <th>CountryCode</th>\n",
       "      <th>Temperature</th>\n",
       "      <th>Humidity</th>\n",
       "      <th>Cloudiness</th>\n",
       "      <th>Wind Speed</th>\n",
       "      <th>Lat Real</th>\n",
       "      <th>Long Real</th>\n",
       "      <th>Datetime</th>\n",
       "    </tr>\n",
       "  </thead>\n",
       "  <tbody>\n",
       "    <tr>\n",
       "      <th>0</th>\n",
       "      <td>13.391774</td>\n",
       "      <td>-42.612194</td>\n",
       "      <td>cayenne</td>\n",
       "      <td>gf</td>\n",
       "      <td>82.40</td>\n",
       "      <td>78.0</td>\n",
       "      <td>20.0</td>\n",
       "      <td>3.36</td>\n",
       "      <td>4.93</td>\n",
       "      <td>-52.33</td>\n",
       "      <td>1.603847e+09</td>\n",
       "    </tr>\n",
       "    <tr>\n",
       "      <th>1</th>\n",
       "      <td>-17.231414</td>\n",
       "      <td>110.517043</td>\n",
       "      <td>karratha</td>\n",
       "      <td>au</td>\n",
       "      <td>80.20</td>\n",
       "      <td>57.0</td>\n",
       "      <td>18.0</td>\n",
       "      <td>9.95</td>\n",
       "      <td>-20.74</td>\n",
       "      <td>116.85</td>\n",
       "      <td>1.603847e+09</td>\n",
       "    </tr>\n",
       "    <tr>\n",
       "      <th>2</th>\n",
       "      <td>9.445800</td>\n",
       "      <td>-74.286498</td>\n",
       "      <td>pijino</td>\n",
       "      <td>co</td>\n",
       "      <td>79.30</td>\n",
       "      <td>80.0</td>\n",
       "      <td>10.0</td>\n",
       "      <td>2.68</td>\n",
       "      <td>9.33</td>\n",
       "      <td>-74.45</td>\n",
       "      <td>1.603847e+09</td>\n",
       "    </tr>\n",
       "    <tr>\n",
       "      <th>3</th>\n",
       "      <td>-10.132149</td>\n",
       "      <td>62.641552</td>\n",
       "      <td>victoria</td>\n",
       "      <td>sc</td>\n",
       "      <td>81.34</td>\n",
       "      <td>74.0</td>\n",
       "      <td>15.0</td>\n",
       "      <td>8.81</td>\n",
       "      <td>-4.62</td>\n",
       "      <td>55.45</td>\n",
       "      <td>1.603847e+09</td>\n",
       "    </tr>\n",
       "    <tr>\n",
       "      <th>4</th>\n",
       "      <td>-12.899780</td>\n",
       "      <td>9.985512</td>\n",
       "      <td>namibe</td>\n",
       "      <td>ao</td>\n",
       "      <td>71.11</td>\n",
       "      <td>79.0</td>\n",
       "      <td>0.0</td>\n",
       "      <td>3.27</td>\n",
       "      <td>-15.20</td>\n",
       "      <td>12.15</td>\n",
       "      <td>1.603847e+09</td>\n",
       "    </tr>\n",
       "  </tbody>\n",
       "</table>\n",
       "</div>"
      ],
      "text/plain": [
       "   Lat Guess  Long Guess  CityName CountryCode  Temperature  Humidity  \\\n",
       "0  13.391774  -42.612194   cayenne          gf        82.40      78.0   \n",
       "1 -17.231414  110.517043  karratha          au        80.20      57.0   \n",
       "2   9.445800  -74.286498    pijino          co        79.30      80.0   \n",
       "3 -10.132149   62.641552  victoria          sc        81.34      74.0   \n",
       "4 -12.899780    9.985512    namibe          ao        71.11      79.0   \n",
       "\n",
       "   Cloudiness  Wind Speed  Lat Real  Long Real      Datetime  \n",
       "0        20.0        3.36      4.93     -52.33  1.603847e+09  \n",
       "1        18.0        9.95    -20.74     116.85  1.603847e+09  \n",
       "2        10.0        2.68      9.33     -74.45  1.603847e+09  \n",
       "3        15.0        8.81     -4.62      55.45  1.603847e+09  \n",
       "4         0.0        3.27    -15.20      12.15  1.603847e+09  "
      ]
     },
     "execution_count": 35,
     "metadata": {},
     "output_type": "execute_result"
    }
   ],
   "source": [
    "df_copy.reset_index(inplace=True)\n",
    "df_copy.head()"
   ]
  },
  {
   "cell_type": "code",
   "execution_count": 36,
   "metadata": {
    "scrolled": true
   },
   "outputs": [
    {
     "name": "stdout",
     "output_type": "stream",
     "text": [
      "Closest lodging is Hotel Central.\n",
      "Closest lodging is Karratha International Hotel.\n",
      "Closest lodging is Hotel Sara Inn.\n",
      "Closest lodging is Bel Air Hotel.\n",
      "Closest lodging is Hotel Chik Chik Namibe.\n",
      "Closest lodging is Super Star Tourist Inn (Pvt) Ltd.\n",
      "Closest lodging is Hostel Tigre.\n",
      "Closest lodging is Hotel National.\n",
      "Closest lodging is Ashwini delux lodge.\n",
      "Closest lodging is Star Emirates Furnished Apartments.\n",
      "Closest lodging is Travellers Haven.\n",
      "Closest lodging is Auberge De Souillac.\n",
      "Closest lodging is Bel Air Hotel.\n",
      "Closest lodging is Hotel Chik Chik Namibe.\n",
      "Closest lodging is Yako.\n",
      "Missing field/result... skipping.\n",
      "Closest lodging is Mandara Kauai.\n",
      "Closest lodging is فندق المنشي دمياط.\n",
      "Closest lodging is Hotel Chik Chik Namibe.\n",
      "Closest lodging is Sikakubete Guest House Kalabo Town Council.\n",
      "Closest lodging is Sharma Hotel and Restaurant.\n",
      "Closest lodging is BACKHOUSE.\n",
      "Closest lodging is Garden Lake Villa.\n",
      "Closest lodging is Ko Olina Resort.\n",
      "Closest lodging is Restaurante e Pousada Fronteira.\n",
      "Missing field/result... skipping.\n",
      "Closest lodging is La Case du Pêcheur.\n",
      "Closest lodging is Horisun.\n",
      "Missing field/result... skipping.\n",
      "Missing field/result... skipping.\n",
      "Closest lodging is Auberge De Souillac.\n",
      "Missing field/result... skipping.\n",
      "Closest lodging is Garden Lake Villa.\n",
      "Closest lodging is Hotel Garapacho.\n",
      "Closest lodging is Onesto Guesthouse.\n",
      "Missing field/result... skipping.\n",
      "Closest lodging is Best Western Chaffey International Motor Inn.\n",
      "Closest lodging is Restaurante e Pousada Fronteira.\n",
      "Closest lodging is Hotel Luso.\n",
      "Missing field/result... skipping.\n",
      "Missing field/result... skipping.\n",
      "Missing field/result... skipping.\n",
      "Closest lodging is Coral Inn Boutique Hotel.\n",
      "Missing field/result... skipping.\n",
      "Missing field/result... skipping.\n",
      "Closest lodging is Maui Seaside Hotel.\n",
      "Closest lodging is فندق المنشي دمياط.\n",
      "Missing field/result... skipping.\n",
      "Missing field/result... skipping.\n",
      "Closest lodging is HESADA APARTMENTS.\n",
      "Closest lodging is Ko Olina Resort.\n",
      "Closest lodging is Nuli Sapi.\n",
      "Closest lodging is Auberge De Souillac.\n",
      "Closest lodging is Sulab Hotel..\n",
      "Closest lodging is Bichito.\n",
      "Closest lodging is Accommodation Center.\n",
      "Closest lodging is Raphael's Hotel.\n",
      "Closest lodging is Hotel Casa Do Capitão.\n",
      "Closest lodging is Hotel Amazonas.\n",
      "Closest lodging is Hôtel Oasis Bouna.\n"
     ]
    }
   ],
   "source": [
    "# Store into variable named hotel_df\n",
    "hotel_df = df_copy\n",
    "hotel_df['Hotel Name'] = ''\n",
    "for index, row in hotel_df.iterrows():\n",
    "    params['location'] = f\"{row['Lat Real']},{row['Long Real']}\"\n",
    "    response = requests.get(base_url, params=params).json()\n",
    "    results = response['results']\n",
    "    \n",
    "    try:\n",
    "        print(f\"Closest lodging is {results[0]['name']}.\")\n",
    "        hotel_df.loc[index, 'Hotel Name'] = results[0]['name']\n",
    "    except:\n",
    "        print(\"Missing field/result... skipping.\")\n",
    "        hotel_df.loc[index, 'Hotel Name'] = np.nan # Added this to make it possible to use .dropna()"
   ]
  },
  {
   "cell_type": "code",
   "execution_count": 37,
   "metadata": {},
   "outputs": [],
   "source": [
    "hotel_df.rename(columns={\"CityName\": \"City\", \"CountryCode\": \"Country\", \"Lat Real\": \"Lat\", \"Long Real\": \"Lng\"}, inplace=True)\n",
    "hotel_df.dropna(inplace=True)"
   ]
  },
  {
   "cell_type": "code",
   "execution_count": 38,
   "metadata": {},
   "outputs": [],
   "source": [
    "# NOTE: Do not change any of the code in this cell\n",
    "\n",
    "# Using the template add the hotel marks to the heatmap\n",
    "info_box_template = \"\"\"\n",
    "<dl>\n",
    "<dt>Name</dt><dd>{Hotel Name}</dd>\n",
    "<dt>City</dt><dd>{City}</dd>\n",
    "<dt>Country</dt><dd>{Country}</dd>\n",
    "</dl>\n",
    "\"\"\"\n",
    "# Store the DataFrame Row\n",
    "# NOTE: be sure to update with your DataFrame name\n",
    "hotel_info = [info_box_template.format(**row) for index, row in hotel_df.iterrows()]\n",
    "locations = hotel_df[[\"Lat\", \"Lng\"]]"
   ]
  },
  {
   "cell_type": "code",
   "execution_count": 39,
   "metadata": {},
   "outputs": [
    {
     "data": {
      "application/vnd.jupyter.widget-view+json": {
       "model_id": "78c59b0c0aec4840aaec5477f960033c",
       "version_major": 2,
       "version_minor": 0
      },
      "text/plain": [
       "Figure(layout=FigureLayout(height='420px'))"
      ]
     },
     "metadata": {},
     "output_type": "display_data"
    }
   ],
   "source": [
    "# Add marker layer ontop of heat map\n",
    "markers = gmaps.marker_layer(locations, info_box_content=hotel_info)\n",
    "fig.add_layer(markers)\n",
    "\n",
    "# Display figure\n",
    "fig"
   ]
  },
  {
   "cell_type": "code",
   "execution_count": null,
   "metadata": {},
   "outputs": [],
   "source": []
  }
 ],
 "metadata": {
  "kernelspec": {
   "display_name": "Python 3",
   "language": "python",
   "name": "python3"
  },
  "language_info": {
   "codemirror_mode": {
    "name": "ipython",
    "version": 3
   },
   "file_extension": ".py",
   "mimetype": "text/x-python",
   "name": "python",
   "nbconvert_exporter": "python",
   "pygments_lexer": "ipython3",
   "version": "3.8.3"
  },
  "latex_envs": {
   "LaTeX_envs_menu_present": true,
   "autoclose": false,
   "autocomplete": true,
   "bibliofile": "biblio.bib",
   "cite_by": "apalike",
   "current_citInitial": 1,
   "eqLabelWithNumbers": true,
   "eqNumInitial": 1,
   "hotkeys": {
    "equation": "Ctrl-E",
    "itemize": "Ctrl-I"
   },
   "labels_anchors": false,
   "latex_user_defs": false,
   "report_style_numbering": false,
   "user_envs_cfg": false
  }
 },
 "nbformat": 4,
 "nbformat_minor": 4
}

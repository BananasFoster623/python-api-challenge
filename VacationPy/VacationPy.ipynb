{
 "cells": [
  {
   "cell_type": "markdown",
   "metadata": {},
   "source": [
    "# VacationPy\n",
    "----\n",
    "\n",
    "#### Note\n",
    "* Keep an eye on your API usage. Use https://developers.google.com/maps/reporting/gmp-reporting as reference for how to monitor your usage and billing.\n",
    "\n",
    "* Instructions have been included for each segment. You do not have to follow them exactly, but they are included to help you think through the steps."
   ]
  },
  {
   "cell_type": "code",
   "execution_count": 1,
   "metadata": {},
   "outputs": [],
   "source": [
    "# Dependencies and Setup\n",
    "import matplotlib.pyplot as plt\n",
    "import pandas as pd\n",
    "import numpy as np\n",
    "from pathlib import Path\n",
    "import datetime\n",
    "import requests\n",
    "import json\n",
    "import gmaps\n",
    "import os\n",
    "\n",
    "# Import API key\n",
    "from api_keys import g_key"
   ]
  },
  {
   "cell_type": "markdown",
   "metadata": {},
   "source": [
    "### Store Part I results into DataFrame\n",
    "* Load the csv exported in Part I to a DataFrame"
   ]
  },
  {
   "cell_type": "code",
   "execution_count": 2,
   "metadata": {},
   "outputs": [
    {
     "data": {
      "text/html": [
       "<div>\n",
       "<style scoped>\n",
       "    .dataframe tbody tr th:only-of-type {\n",
       "        vertical-align: middle;\n",
       "    }\n",
       "\n",
       "    .dataframe tbody tr th {\n",
       "        vertical-align: top;\n",
       "    }\n",
       "\n",
       "    .dataframe thead th {\n",
       "        text-align: right;\n",
       "    }\n",
       "</style>\n",
       "<table border=\"1\" class=\"dataframe\">\n",
       "  <thead>\n",
       "    <tr style=\"text-align: right;\">\n",
       "      <th></th>\n",
       "      <th>Long Guess</th>\n",
       "      <th>CityName</th>\n",
       "      <th>CountryCode</th>\n",
       "      <th>Temperature</th>\n",
       "      <th>Humidity</th>\n",
       "      <th>Cloudiness</th>\n",
       "      <th>Wind Speed</th>\n",
       "      <th>Lat Real</th>\n",
       "      <th>Long Real</th>\n",
       "      <th>Datetime</th>\n",
       "    </tr>\n",
       "    <tr>\n",
       "      <th>Lat Guess</th>\n",
       "      <th></th>\n",
       "      <th></th>\n",
       "      <th></th>\n",
       "      <th></th>\n",
       "      <th></th>\n",
       "      <th></th>\n",
       "      <th></th>\n",
       "      <th></th>\n",
       "      <th></th>\n",
       "      <th></th>\n",
       "    </tr>\n",
       "  </thead>\n",
       "  <tbody>\n",
       "    <tr>\n",
       "      <th>59.933350</th>\n",
       "      <td>-7.833893</td>\n",
       "      <td>vagur</td>\n",
       "      <td>fo</td>\n",
       "      <td>48.69</td>\n",
       "      <td>86.0</td>\n",
       "      <td>100.0</td>\n",
       "      <td>21.59</td>\n",
       "      <td>61.47</td>\n",
       "      <td>-6.81</td>\n",
       "      <td>1.603849e+09</td>\n",
       "    </tr>\n",
       "    <tr>\n",
       "      <th>44.473937</th>\n",
       "      <td>25.474566</td>\n",
       "      <td>gratia</td>\n",
       "      <td>ro</td>\n",
       "      <td>57.00</td>\n",
       "      <td>93.0</td>\n",
       "      <td>90.0</td>\n",
       "      <td>4.70</td>\n",
       "      <td>44.43</td>\n",
       "      <td>25.45</td>\n",
       "      <td>1.603849e+09</td>\n",
       "    </tr>\n",
       "    <tr>\n",
       "      <th>-0.258064</th>\n",
       "      <td>-158.032534</td>\n",
       "      <td>faanui</td>\n",
       "      <td>pf</td>\n",
       "      <td>79.65</td>\n",
       "      <td>83.0</td>\n",
       "      <td>100.0</td>\n",
       "      <td>18.72</td>\n",
       "      <td>-16.48</td>\n",
       "      <td>-151.75</td>\n",
       "      <td>1.603849e+09</td>\n",
       "    </tr>\n",
       "    <tr>\n",
       "      <th>-28.117164</th>\n",
       "      <td>-105.514850</td>\n",
       "      <td>rikitea</td>\n",
       "      <td>pf</td>\n",
       "      <td>75.52</td>\n",
       "      <td>83.0</td>\n",
       "      <td>100.0</td>\n",
       "      <td>15.48</td>\n",
       "      <td>-23.12</td>\n",
       "      <td>-134.97</td>\n",
       "      <td>1.603849e+09</td>\n",
       "    </tr>\n",
       "    <tr>\n",
       "      <th>-18.473594</th>\n",
       "      <td>-178.352367</td>\n",
       "      <td>vaini</td>\n",
       "      <td>to</td>\n",
       "      <td>77.00</td>\n",
       "      <td>78.0</td>\n",
       "      <td>75.0</td>\n",
       "      <td>16.11</td>\n",
       "      <td>-21.20</td>\n",
       "      <td>-175.20</td>\n",
       "      <td>1.603849e+09</td>\n",
       "    </tr>\n",
       "  </tbody>\n",
       "</table>\n",
       "</div>"
      ],
      "text/plain": [
       "            Long Guess CityName CountryCode  Temperature  Humidity  \\\n",
       "Lat Guess                                                            \n",
       " 59.933350   -7.833893    vagur          fo        48.69      86.0   \n",
       " 44.473937   25.474566   gratia          ro        57.00      93.0   \n",
       "-0.258064  -158.032534   faanui          pf        79.65      83.0   \n",
       "-28.117164 -105.514850  rikitea          pf        75.52      83.0   \n",
       "-18.473594 -178.352367    vaini          to        77.00      78.0   \n",
       "\n",
       "            Cloudiness  Wind Speed  Lat Real  Long Real      Datetime  \n",
       "Lat Guess                                                              \n",
       " 59.933350       100.0       21.59     61.47      -6.81  1.603849e+09  \n",
       " 44.473937        90.0        4.70     44.43      25.45  1.603849e+09  \n",
       "-0.258064        100.0       18.72    -16.48    -151.75  1.603849e+09  \n",
       "-28.117164       100.0       15.48    -23.12    -134.97  1.603849e+09  \n",
       "-18.473594        75.0       16.11    -21.20    -175.20  1.603849e+09  "
      ]
     },
     "execution_count": 2,
     "metadata": {},
     "output_type": "execute_result"
    }
   ],
   "source": [
    "readpath = Path.cwd() / 'cities.csv'\n",
    "df = pd.read_csv(readpath, index_col=0)\n",
    "df.head()"
   ]
  },
  {
   "cell_type": "markdown",
   "metadata": {},
   "source": [
    "### Humidity Heatmap\n",
    "* Configure gmaps.\n",
    "* Use the Lat and Lng as locations and Humidity as the weight.\n",
    "* Add Heatmap layer to map."
   ]
  },
  {
   "cell_type": "code",
   "execution_count": 3,
   "metadata": {},
   "outputs": [],
   "source": [
    "# Configure gmaps\n",
    "gmaps.configure(api_key=g_key)"
   ]
  },
  {
   "cell_type": "code",
   "execution_count": 4,
   "metadata": {},
   "outputs": [
    {
     "data": {
      "application/vnd.jupyter.widget-view+json": {
       "model_id": "4c7d378f338b4fda8fe4ba8f363d6b9e",
       "version_major": 2,
       "version_minor": 0
      },
      "text/plain": [
       "Figure(layout=FigureLayout(height='420px'))"
      ]
     },
     "metadata": {},
     "output_type": "display_data"
    }
   ],
   "source": [
    "Humiditylocations = df[['Lat Real', 'Long Real']]\n",
    "weights = df['Humidity']*10000\n",
    "fig = gmaps.figure()\n",
    "fig.add_layer(gmaps.heatmap_layer(Humiditylocations, weights=weights, point_radius=20))\n",
    "fig"
   ]
  },
  {
   "cell_type": "markdown",
   "metadata": {},
   "source": [
    "### Create new DataFrame fitting weather criteria\n",
    "* Narrow down the cities to fit weather conditions.\n",
    "    - 65-85 F\n",
    "    - Wind Speed <15\n",
    "    - 50% Cloudiness\n",
    "* Drop any rows will null values."
   ]
  },
  {
   "cell_type": "code",
   "execution_count": 5,
   "metadata": {},
   "outputs": [
    {
     "name": "stdout",
     "output_type": "stream",
     "text": [
      "The remaining number of cities that fit our criteria is 71\n"
     ]
    }
   ],
   "source": [
    "# Filter a COPY of the original dataframe based on above parameters for a \"perfect day\"\n",
    "df_copy = df.copy()\n",
    "df_copy = df_copy.loc[df_copy['Temperature'] >= 70 ]\n",
    "df_copy = df_copy.loc[df_copy['Temperature'] <= 85 ]\n",
    "df_copy = df_copy.loc[df_copy['Wind Speed'] <= 10]\n",
    "df_copy = df_copy.loc[df_copy['Cloudiness'] <= 50]\n",
    "print(f'The remaining number of cities that fit our criteria is {len(df_copy)}')"
   ]
  },
  {
   "cell_type": "markdown",
   "metadata": {},
   "source": [
    "### Hotel Map\n",
    "* Store into variable named `hotel_df`.\n",
    "* Add a \"Hotel Name\" column to the DataFrame.\n",
    "* Set parameters to search for hotels with 5000 meters.\n",
    "* Hit the Google Places API for each city's coordinates.\n",
    "* Store the first Hotel result into the DataFrame.\n",
    "* Plot markers on top of the heatmap."
   ]
  },
  {
   "cell_type": "code",
   "execution_count": 6,
   "metadata": {},
   "outputs": [],
   "source": [
    "# Set up our basic query\n",
    "base_url = \"https://maps.googleapis.com/maps/api/place/nearbysearch/json\"\n",
    "params = {\n",
    "    \"keyword\": \"hotel\",\n",
    "    \"distance\": 5000,\n",
    "    \"rankby\": \"distance\",\n",
    "    \"key\": g_key\n",
    "}"
   ]
  },
  {
   "cell_type": "code",
   "execution_count": 7,
   "metadata": {},
   "outputs": [
    {
     "data": {
      "text/html": [
       "<div>\n",
       "<style scoped>\n",
       "    .dataframe tbody tr th:only-of-type {\n",
       "        vertical-align: middle;\n",
       "    }\n",
       "\n",
       "    .dataframe tbody tr th {\n",
       "        vertical-align: top;\n",
       "    }\n",
       "\n",
       "    .dataframe thead th {\n",
       "        text-align: right;\n",
       "    }\n",
       "</style>\n",
       "<table border=\"1\" class=\"dataframe\">\n",
       "  <thead>\n",
       "    <tr style=\"text-align: right;\">\n",
       "      <th></th>\n",
       "      <th>Lat Guess</th>\n",
       "      <th>Long Guess</th>\n",
       "      <th>CityName</th>\n",
       "      <th>CountryCode</th>\n",
       "      <th>Temperature</th>\n",
       "      <th>Humidity</th>\n",
       "      <th>Cloudiness</th>\n",
       "      <th>Wind Speed</th>\n",
       "      <th>Lat Real</th>\n",
       "      <th>Long Real</th>\n",
       "      <th>Datetime</th>\n",
       "    </tr>\n",
       "  </thead>\n",
       "  <tbody>\n",
       "    <tr>\n",
       "      <th>0</th>\n",
       "      <td>-47.275774</td>\n",
       "      <td>81.601122</td>\n",
       "      <td>mahebourg</td>\n",
       "      <td>mu</td>\n",
       "      <td>70.00</td>\n",
       "      <td>80.0</td>\n",
       "      <td>8.0</td>\n",
       "      <td>3.00</td>\n",
       "      <td>-20.41</td>\n",
       "      <td>57.70</td>\n",
       "      <td>1.603849e+09</td>\n",
       "    </tr>\n",
       "    <tr>\n",
       "      <th>1</th>\n",
       "      <td>9.947242</td>\n",
       "      <td>-19.185517</td>\n",
       "      <td>bubaque</td>\n",
       "      <td>gw</td>\n",
       "      <td>82.15</td>\n",
       "      <td>80.0</td>\n",
       "      <td>21.0</td>\n",
       "      <td>9.64</td>\n",
       "      <td>11.28</td>\n",
       "      <td>-15.83</td>\n",
       "      <td>1.603849e+09</td>\n",
       "    </tr>\n",
       "    <tr>\n",
       "      <th>2</th>\n",
       "      <td>-25.739976</td>\n",
       "      <td>38.144261</td>\n",
       "      <td>inhambane</td>\n",
       "      <td>mz</td>\n",
       "      <td>71.67</td>\n",
       "      <td>90.0</td>\n",
       "      <td>2.0</td>\n",
       "      <td>7.36</td>\n",
       "      <td>-23.86</td>\n",
       "      <td>35.38</td>\n",
       "      <td>1.603849e+09</td>\n",
       "    </tr>\n",
       "    <tr>\n",
       "      <th>3</th>\n",
       "      <td>-23.358221</td>\n",
       "      <td>136.954159</td>\n",
       "      <td>alice springs</td>\n",
       "      <td>au</td>\n",
       "      <td>82.40</td>\n",
       "      <td>12.0</td>\n",
       "      <td>0.0</td>\n",
       "      <td>5.82</td>\n",
       "      <td>-23.70</td>\n",
       "      <td>133.88</td>\n",
       "      <td>1.603849e+09</td>\n",
       "    </tr>\n",
       "    <tr>\n",
       "      <th>4</th>\n",
       "      <td>-4.092311</td>\n",
       "      <td>121.163857</td>\n",
       "      <td>bone</td>\n",
       "      <td>id</td>\n",
       "      <td>83.91</td>\n",
       "      <td>53.0</td>\n",
       "      <td>19.0</td>\n",
       "      <td>6.17</td>\n",
       "      <td>-9.83</td>\n",
       "      <td>124.45</td>\n",
       "      <td>1.603849e+09</td>\n",
       "    </tr>\n",
       "  </tbody>\n",
       "</table>\n",
       "</div>"
      ],
      "text/plain": [
       "   Lat Guess  Long Guess       CityName CountryCode  Temperature  Humidity  \\\n",
       "0 -47.275774   81.601122      mahebourg          mu        70.00      80.0   \n",
       "1   9.947242  -19.185517        bubaque          gw        82.15      80.0   \n",
       "2 -25.739976   38.144261      inhambane          mz        71.67      90.0   \n",
       "3 -23.358221  136.954159  alice springs          au        82.40      12.0   \n",
       "4  -4.092311  121.163857           bone          id        83.91      53.0   \n",
       "\n",
       "   Cloudiness  Wind Speed  Lat Real  Long Real      Datetime  \n",
       "0         8.0        3.00    -20.41      57.70  1.603849e+09  \n",
       "1        21.0        9.64     11.28     -15.83  1.603849e+09  \n",
       "2         2.0        7.36    -23.86      35.38  1.603849e+09  \n",
       "3         0.0        5.82    -23.70     133.88  1.603849e+09  \n",
       "4        19.0        6.17     -9.83     124.45  1.603849e+09  "
      ]
     },
     "execution_count": 7,
     "metadata": {},
     "output_type": "execute_result"
    }
   ],
   "source": [
    "df_copy.reset_index(inplace=True)\n",
    "df_copy.head()"
   ]
  },
  {
   "cell_type": "code",
   "execution_count": 8,
   "metadata": {
    "scrolled": true
   },
   "outputs": [
    {
     "name": "stdout",
     "output_type": "stream",
     "text": [
      "Closest lodging is Garden Lake Villa.\n",
      "Closest lodging is Apart Hotel New Neguen.\n",
      "Closest lodging is Hotel Casa Do Capitão.\n",
      "Closest lodging is Elkira Court Motel.\n",
      "Closest lodging is Dena Hotel.\n",
      "Closest lodging is Horisun.\n",
      "Closest lodging is Best Western Plus Sanford Airport/Lake Mary Hotel.\n",
      "Closest lodging is OYO 44821 Hotel Paane.\n",
      "Missing field/result... skipping.\n",
      "Closest lodging is Villa Pacheco.\n",
      "Closest lodging is Pousada Fulô de Maringá.\n",
      "Closest lodging is Garden Lake Villa.\n",
      "Closest lodging is Hotel Casa Do Capitão.\n",
      "Closest lodging is The St George's Club & Resort.\n",
      "Missing field/result... skipping.\n",
      "Closest lodging is Auberge De Souillac.\n",
      "Closest lodging is O Carinhanha Hotel.\n",
      "Closest lodging is The St George's Club & Resort.\n",
      "Closest lodging is Hilltop Boutique Hotel.\n",
      "Closest lodging is REER XOOSHLE GROUP.\n",
      "Closest lodging is BEN-HUR Hotel.\n",
      "Closest lodging is Garden Lake Villa.\n",
      "Closest lodging is Hilltop Boutique Hotel.\n",
      "Closest lodging is Garden Lake Villa.\n",
      "Closest lodging is My Indraprasth Tourist Homestay.\n",
      "Closest lodging is Hotel Rafa Cassilândia.\n",
      "Closest lodging is فندق السادات.\n",
      "Closest lodging is Hôtel Trois Étoiles de Biltine.\n",
      "Closest lodging is Auberge De Souillac.\n",
      "Missing field/result... skipping.\n",
      "Closest lodging is Home Inn Xiangzhou Zhuhai.\n",
      "Closest lodging is Hotel Sol del Pacífico.\n",
      "Closest lodging is Horisun.\n",
      "Closest lodging is OYO 89663 Theatre Inn.\n",
      "Closest lodging is বাহাদুরের চায়ের ষ্টোর.\n",
      "Closest lodging is SAM & SAN.\n",
      "Closest lodging is InterCityHotel Salalah.\n",
      "Closest lodging is Kunateh Lodge.\n",
      "Closest lodging is BEN-HUR Hotel.\n",
      "Closest lodging is Maia's Beach Resort.\n",
      "Closest lodging is Recanto Da Villa.\n",
      "Closest lodging is Tulip Guest Inn.\n",
      "Closest lodging is Riviera de Praia Bela.\n",
      "Closest lodging is Hotel Anand Inn.\n",
      "Closest lodging is Hotel Cururupu.\n",
      "Missing field/result... skipping.\n",
      "Closest lodging is Pousada Cores e Formas.\n",
      "Closest lodging is Pousada Cores e Formas.\n",
      "Closest lodging is La Case du Pêcheur.\n",
      "Closest lodging is فندق الله جابو.\n",
      "Closest lodging is Garden Lake Villa.\n",
      "Missing field/result... skipping.\n",
      "Closest lodging is Hotel Central.\n",
      "Closest lodging is Hotel Du Fleuve.\n",
      "Closest lodging is Camali Hotel.\n",
      "Closest lodging is Hospedaje la Amistad.\n",
      "Missing field/result... skipping.\n",
      "Closest lodging is Ayers Rock Campground.\n",
      "Closest lodging is InterCityHotel Salalah.\n",
      "Closest lodging is Hôtel Trois Étoiles de Biltine.\n",
      "Closest lodging is Hotel Esplanada.\n",
      "Closest lodging is Ghazi Guest House.\n",
      "Closest lodging is Gold Mount Hotel.\n",
      "Missing field/result... skipping.\n",
      "Closest lodging is Garden Lake Villa.\n",
      "Closest lodging is Auberge De Souillac.\n",
      "Closest lodging is OYO 89663 Theatre Inn.\n",
      "Missing field/result... skipping.\n",
      "Closest lodging is Ayers Rock Campground.\n",
      "Closest lodging is Hotel Solimões.\n",
      "Closest lodging is Hotel Esplanada.\n"
     ]
    }
   ],
   "source": [
    "# Store into variable named hotel_df\n",
    "hotel_df = df_copy\n",
    "hotel_df['Hotel Name'] = ''\n",
    "for index, row in hotel_df.iterrows():\n",
    "    params['location'] = f\"{row['Lat Real']},{row['Long Real']}\"\n",
    "    response = requests.get(base_url, params=params).json()\n",
    "    results = response['results']\n",
    "    \n",
    "    try:\n",
    "        print(f\"Closest lodging is {results[0]['name']}.\")\n",
    "        hotel_df.loc[index, 'Hotel Name'] = results[0]['name']\n",
    "    except:\n",
    "        print(\"Missing field/result... skipping.\")\n",
    "        hotel_df.loc[index, 'Hotel Name'] = np.nan # Added this to make it possible to use .dropna()"
   ]
  },
  {
   "cell_type": "code",
   "execution_count": 9,
   "metadata": {},
   "outputs": [],
   "source": [
    "hotel_df.rename(columns={\"CityName\": \"City\", \"CountryCode\": \"Country\", \"Lat Real\": \"Lat\", \"Long Real\": \"Lng\"}, inplace=True)\n",
    "hotel_df.dropna(inplace=True)"
   ]
  },
  {
   "cell_type": "code",
   "execution_count": 10,
   "metadata": {},
   "outputs": [],
   "source": [
    "# NOTE: Do not change any of the code in this cell\n",
    "\n",
    "# Using the template add the hotel marks to the heatmap\n",
    "info_box_template = \"\"\"\n",
    "<dl>\n",
    "<dt>Name</dt><dd>{Hotel Name}</dd>\n",
    "<dt>City</dt><dd>{City}</dd>\n",
    "<dt>Country</dt><dd>{Country}</dd>\n",
    "</dl>\n",
    "\"\"\"\n",
    "# Store the DataFrame Row\n",
    "# NOTE: be sure to update with your DataFrame name\n",
    "hotel_info = [info_box_template.format(**row) for index, row in hotel_df.iterrows()]\n",
    "locations = hotel_df[[\"Lat\", \"Lng\"]]"
   ]
  },
  {
   "cell_type": "code",
   "execution_count": 11,
   "metadata": {},
   "outputs": [
    {
     "data": {
      "application/vnd.jupyter.widget-view+json": {
       "model_id": "4c7d378f338b4fda8fe4ba8f363d6b9e",
       "version_major": 2,
       "version_minor": 0
      },
      "text/plain": [
       "Figure(layout=FigureLayout(height='420px'))"
      ]
     },
     "metadata": {},
     "output_type": "display_data"
    }
   ],
   "source": [
    "# Add marker layer ontop of heat map\n",
    "markers = gmaps.marker_layer(locations, info_box_content=hotel_info)\n",
    "fig.add_layer(markers)\n",
    "\n",
    "# Display figure\n",
    "fig"
   ]
  },
  {
   "cell_type": "code",
   "execution_count": null,
   "metadata": {},
   "outputs": [],
   "source": []
  }
 ],
 "metadata": {
  "kernelspec": {
   "display_name": "Python 3",
   "language": "python",
   "name": "python3"
  },
  "language_info": {
   "codemirror_mode": {
    "name": "ipython",
    "version": 3
   },
   "file_extension": ".py",
   "mimetype": "text/x-python",
   "name": "python",
   "nbconvert_exporter": "python",
   "pygments_lexer": "ipython3",
   "version": "3.8.3"
  },
  "latex_envs": {
   "LaTeX_envs_menu_present": true,
   "autoclose": false,
   "autocomplete": true,
   "bibliofile": "biblio.bib",
   "cite_by": "apalike",
   "current_citInitial": 1,
   "eqLabelWithNumbers": true,
   "eqNumInitial": 1,
   "hotkeys": {
    "equation": "Ctrl-E",
    "itemize": "Ctrl-I"
   },
   "labels_anchors": false,
   "latex_user_defs": false,
   "report_style_numbering": false,
   "user_envs_cfg": false
  }
 },
 "nbformat": 4,
 "nbformat_minor": 4
}

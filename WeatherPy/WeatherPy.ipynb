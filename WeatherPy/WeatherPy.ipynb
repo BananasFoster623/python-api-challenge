{
 "cells": [
  {
   "cell_type": "markdown",
   "metadata": {},
   "source": [
    "# WeatherPy\n",
    "----\n",
    "\n",
    "#### Note\n",
    "* Instructions have been included for each segment. You do not have to follow them exactly, but they are included to help you think through the steps."
   ]
  },
  {
   "cell_type": "code",
   "execution_count": null,
   "metadata": {
    "scrolled": true
   },
   "outputs": [],
   "source": [
    "# Dependencies\n",
    "import pandas as pd\n",
    "import numpy as np\n",
    "from citipy import citipy\n",
    "from random import uniform\n",
    "from scipy import stats as st\n",
    "import datetime\n",
    "import matplotlib.pyplot as plt\n",
    "import requests\n",
    "import json\n",
    "from pathlib import Path\n",
    "\n",
    "# Import API keys\n",
    "from api_keys import (weather_api_key, g_key)"
   ]
  },
  {
   "cell_type": "markdown",
   "metadata": {},
   "source": [
    "## Function Block"
   ]
  },
  {
   "cell_type": "code",
   "execution_count": null,
   "metadata": {},
   "outputs": [],
   "source": [
    "def randLatLong():\n",
    "    Lat = uniform(-90,90)\n",
    "    Lng = uniform(-180,180)\n",
    "    return Lat, Lng"
   ]
  },
  {
   "cell_type": "markdown",
   "metadata": {},
   "source": [
    "## Generate Cities List"
   ]
  },
  {
   "cell_type": "code",
   "execution_count": null,
   "metadata": {},
   "outputs": [],
   "source": [
    "numCities = 750\n",
    "cityList = []\n",
    "for x in range(numCities):\n",
    "    cityList.append(randLatLong())\n",
    "\n",
    "cityName = []\n",
    "cityCountry = []\n",
    "for city in cityList:\n",
    "    lat = city[0]\n",
    "    lng = city[1]\n",
    "    city = citipy.nearest_city(lat, lng)\n",
    "    cityName.append(city.city_name)\n",
    "    cityCountry.append(city.country_code)\n",
    "city_df = pd.DataFrame(data = cityList)\n",
    "city_df['CityName'] = cityName\n",
    "city_df['CountryCode'] = cityCountry\n",
    "city_df.columns = ['Lat Guess', 'Long Guess', 'CityName','CountryCode']\n",
    "city_df['Temperature'] = ''\n",
    "city_df['Humidity'] = ''\n",
    "city_df['Cloudiness'] = ''\n",
    "city_df['Wind Speed'] = ''\n",
    "city_df['Lat Real'] = ''\n",
    "city_df['Long Real'] = ''\n",
    "city_df['Datetime'] = ''\n",
    "city_df.head()"
   ]
  },
  {
   "cell_type": "markdown",
   "metadata": {},
   "source": [
    "### Perform API Calls\n",
    "* Perform a weather check on each city using a series of successive API calls.\n",
    "* Include a print log of each city as it'sbeing processed (with the city number and city name).\n"
   ]
  },
  {
   "cell_type": "code",
   "execution_count": null,
   "metadata": {
    "scrolled": true
   },
   "outputs": [],
   "source": [
    "url = \"http://api.openweathermap.org/data/2.5/weather?\"\n",
    "units = \"imperial\"\n",
    "\n",
    "# Build partial query URL\n",
    "query_url = f\"{url}appid={weather_api_key}&units={units}&q=\""
   ]
  },
  {
   "cell_type": "code",
   "execution_count": null,
   "metadata": {},
   "outputs": [],
   "source": [
    "# Outputting sample query to be able to look at json format\n",
    "qry = query_url + city_df['CityName'][0] + ',' + city_df['CountryCode'][0]\n",
    "print(qry)"
   ]
  },
  {
   "cell_type": "code",
   "execution_count": null,
   "metadata": {},
   "outputs": [],
   "source": [
    "lat = []\n",
    "lon = []\n",
    "temp = []\n",
    "hum = []\n",
    "cloud = []\n",
    "wind = []\n",
    "date = []\n",
    "for index,row in city_df.iterrows():\n",
    "    print(f'Working on City Number {index}: {row[2]}, {row[3]}')\n",
    "    try:\n",
    "        response = requests.get(query_url + row[2] + ',' + row[3]).json()\n",
    "        city_df['Lat Real'][index] = response['coord']['lat']\n",
    "        city_df['Long Real'][index] = response['coord']['lon']\n",
    "        city_df['Temperature'][index] = response['main']['temp_max']\n",
    "        city_df['Humidity'][index] = response['main']['humidity']\n",
    "        city_df['Cloudiness'][index] = response['clouds']['all']\n",
    "        city_df['Wind Speed'][index] = response['wind']['speed']\n",
    "        city_df['Datetime'][index] = response['dt']\n",
    "    except:\n",
    "        city_df['Lat Real'][index] = np.nan\n",
    "        city_df['Long Real'][index] = np.nan\n",
    "        city_df['Temperature'][index] = np.nan\n",
    "        city_df['Humidity'][index] = np.nan\n",
    "        city_df['Cloudiness'][index] = np.nan\n",
    "        city_df['Wind Speed'][index] = np.nan\n",
    "        city_df['Datetime'][index] = np.nan\n",
    "        print('')\n",
    "        print(f'City Number is missing data')\n",
    "        print('')"
   ]
  },
  {
   "cell_type": "code",
   "execution_count": null,
   "metadata": {},
   "outputs": [],
   "source": [
    "cols = ['Temperature', 'Humidity', 'Cloudiness', 'Wind Speed', 'Lat Real', 'Long Real', 'Datetime']\n",
    "city_df[cols].replace('', np.nan, inplace=True)\n",
    "city_df.dropna(how='any', inplace=True)\n",
    "city_df.head(100)"
   ]
  },
  {
   "cell_type": "markdown",
   "metadata": {},
   "source": [
    "### Convert Raw Data to DataFrame\n",
    "* Export the city data into a .csv.\n",
    "* Display the DataFrame"
   ]
  },
  {
   "cell_type": "code",
   "execution_count": null,
   "metadata": {},
   "outputs": [],
   "source": [
    "city_df[cols] = city_df[cols].astype(float)\n",
    "city_df.describe()"
   ]
  },
  {
   "cell_type": "code",
   "execution_count": null,
   "metadata": {},
   "outputs": [],
   "source": [
    "printpath = Path.cwd() / 'cities.csv'\n",
    "city_df.to_csv(printpath, index=False)"
   ]
  },
  {
   "cell_type": "code",
   "execution_count": null,
   "metadata": {},
   "outputs": [],
   "source": [
    "parentpath = Path(Path.cwd()).parents[0] / 'VacationPy' / 'cities.csv'\n",
    "city_df.to_csv(parentpath, index=False)"
   ]
  },
  {
   "cell_type": "markdown",
   "metadata": {},
   "source": [
    "## Inspect the data and remove the cities where the humidity > 100%.\n",
    "----\n",
    "Skip this step if there are no cities that have humidity > 100%. "
   ]
  },
  {
   "cell_type": "code",
   "execution_count": null,
   "metadata": {},
   "outputs": [],
   "source": []
  },
  {
   "cell_type": "code",
   "execution_count": null,
   "metadata": {},
   "outputs": [],
   "source": [
    "#  Get the indices of cities that have humidity over 100%.\n"
   ]
  },
  {
   "cell_type": "code",
   "execution_count": null,
   "metadata": {},
   "outputs": [],
   "source": [
    "# Make a new DataFrame equal to the city data to drop all humidity outliers by index.\n",
    "# Passing \"inplace=False\" will make a copy of the city_data DataFrame, which we call \"clean_city_data\".\n"
   ]
  },
  {
   "cell_type": "markdown",
   "metadata": {},
   "source": [
    "## Plotting the Data\n",
    "* Use proper labeling of the plots using plot titles (including date of analysis) and axes labels.\n",
    "* Save the plotted figures as .pngs."
   ]
  },
  {
   "cell_type": "markdown",
   "metadata": {},
   "source": [
    "## Latitude vs. Temperature Plot"
   ]
  },
  {
   "cell_type": "code",
   "execution_count": null,
   "metadata": {},
   "outputs": [],
   "source": [
    "# We assume that all data was pulled on the same date, so just grab one datetime\n",
    "day = datetime.datetime.fromtimestamp(int(city_df['Datetime'][0])).strftime('%Y-%m-%d')"
   ]
  },
  {
   "cell_type": "code",
   "execution_count": null,
   "metadata": {
    "scrolled": true
   },
   "outputs": [],
   "source": [
    "scat1 = plt.scatter(city_df['Lat Real'], city_df['Temperature'])\n",
    "scat1 = plt.xlabel('Latitude')\n",
    "scat1 = plt.ylabel('Temperature (F)')\n",
    "scat1 = plt.title(f\"Temperature vs Latitude on {day}\")\n",
    "scat1 = plt.grid(True)\n",
    "plt.savefig(f\"Temperature Vs Latitude {day}.png\")"
   ]
  },
  {
   "cell_type": "markdown",
   "metadata": {},
   "source": [
    "## Latitude vs. Humidity Plot"
   ]
  },
  {
   "cell_type": "code",
   "execution_count": null,
   "metadata": {},
   "outputs": [],
   "source": [
    "scat2 = plt.scatter(city_df['Lat Real'], city_df['Humidity'])\n",
    "scat2 = plt.xlabel('Latitude')\n",
    "scat2 = plt.ylabel('Humidity (%)')\n",
    "scat2 = plt.title(f\"Humidity vs Latitude on {day}\")\n",
    "scat2 = plt.grid(True)\n",
    "plt.savefig(f\"Humidity Vs Latitude {day}.png\")"
   ]
  },
  {
   "cell_type": "markdown",
   "metadata": {},
   "source": [
    "## Latitude vs. Cloudiness Plot"
   ]
  },
  {
   "cell_type": "code",
   "execution_count": null,
   "metadata": {},
   "outputs": [],
   "source": [
    "scat3 = plt.scatter(city_df['Lat Real'], city_df['Cloudiness'])\n",
    "scat3 = plt.xlabel('Latitude')\n",
    "scat3 = plt.ylabel('Cloudiness (%)')\n",
    "scat3 = plt.title(f\"Cloudiness vs Latitude on {day}\")\n",
    "scat3 = plt.grid(True)\n",
    "plt.savefig(f\"Cloudiness Vs Latitude {day}.png\")"
   ]
  },
  {
   "cell_type": "markdown",
   "metadata": {},
   "source": [
    "## Latitude vs. Wind Speed Plot"
   ]
  },
  {
   "cell_type": "code",
   "execution_count": null,
   "metadata": {},
   "outputs": [],
   "source": [
    "scat4 = plt.scatter(city_df['Lat Real'], city_df['Wind Speed'])\n",
    "scat4 = plt.xlabel('Latitude')\n",
    "scat4 = plt.ylabel('Wind Speed (mph)')\n",
    "scat4 = plt.title(f\"Wind Speed vs Latitude on {day}\")\n",
    "scat4 = plt.grid(True)\n",
    "plt.savefig(f\"Wind Speed Vs Latitude {day}.png\")"
   ]
  },
  {
   "cell_type": "markdown",
   "metadata": {},
   "source": [
    "## Linear Regression"
   ]
  },
  {
   "cell_type": "code",
   "execution_count": null,
   "metadata": {},
   "outputs": [],
   "source": [
    "northCities = city_df.loc[city_df['Lat Real'] > 0]\n",
    "southCities = city_df.loc[city_df['Lat Real'] < 0]"
   ]
  },
  {
   "cell_type": "code",
   "execution_count": null,
   "metadata": {},
   "outputs": [],
   "source": [
    "northCities.describe()"
   ]
  },
  {
   "cell_type": "code",
   "execution_count": null,
   "metadata": {},
   "outputs": [],
   "source": [
    "southCities.describe()"
   ]
  },
  {
   "cell_type": "markdown",
   "metadata": {},
   "source": [
    "####  Northern Hemisphere - Max Temp vs. Latitude Linear Regression"
   ]
  },
  {
   "cell_type": "code",
   "execution_count": null,
   "metadata": {},
   "outputs": [],
   "source": [
    "slope, intercept, rvalue, pvalue, stderr = st.linregress(northCities['Lat Real'], northCities['Temperature'])\n",
    "print(f'The r-value is {rvalue**2:0.4f}')\n",
    "scat5 = plt.scatter(northCities['Lat Real'], northCities['Temperature'])\n",
    "scat5 = plt.xlabel('Latitude')\n",
    "scat5 = plt.ylabel('Temperature (F)')\n",
    "scat5 = plt.title(f\"Northern Hemisphere Temperature vs Latitude on {day}\")\n",
    "scat5 = plt.grid(True)\n",
    "lineq5 = slope * northCities['Lat Real'] + intercept\n",
    "plt.plot(northCities['Lat Real'], lineq5, color='red')\n",
    "plt.savefig(f\"Northern Hemisphere Temperature Vs Latitude {day}.png\")"
   ]
  },
  {
   "cell_type": "markdown",
   "metadata": {},
   "source": [
    "####  Southern Hemisphere - Max Temp vs. Latitude Linear Regression"
   ]
  },
  {
   "cell_type": "code",
   "execution_count": null,
   "metadata": {},
   "outputs": [],
   "source": [
    "slope, intercept, rvalue, pvalue, stderr = st.linregress(southCities['Lat Real'], southCities['Temperature'])\n",
    "print(f'The r-value is {rvalue:0.4f}')\n",
    "scat6 = plt.scatter(southCities['Lat Real'], southCities['Temperature'])\n",
    "scat6 = plt.xlabel('Latitude')\n",
    "scat6 = plt.ylabel('Temperature (F)')\n",
    "scat6 = plt.title(f\"Southern Hemisphere Temperature vs Latitude on {day}\")\n",
    "scat6 = plt.grid(True)\n",
    "lineq6 = slope * southCities['Lat Real'] + intercept\n",
    "plt.plot(southCities['Lat Real'], lineq6, color='red')\n",
    "plt.savefig(f\"Southern Hemisphere Temperature Vs Latitude {day}.png\")"
   ]
  },
  {
   "cell_type": "markdown",
   "metadata": {},
   "source": [
    "####  Northern Hemisphere - Humidity (%) vs. Latitude Linear Regression"
   ]
  },
  {
   "cell_type": "code",
   "execution_count": null,
   "metadata": {},
   "outputs": [],
   "source": [
    "slope, intercept, rvalue, pvalue, stderr = st.linregress(northCities['Lat Real'], northCities['Humidity'])\n",
    "print(f'The r-value is {rvalue:0.4f}')\n",
    "scat7 = plt.scatter(northCities['Lat Real'], northCities['Humidity'])\n",
    "scat7 = plt.xlabel('Latitude')\n",
    "scat7 = plt.ylabel('Humidity (%)')\n",
    "scat7 = plt.title(f\"Northern Hemisphere Humidity vs Latitude on {day}\")\n",
    "scat7 = plt.grid(True)\n",
    "lineq7 = slope * northCities['Lat Real'] + intercept\n",
    "plt.plot(northCities['Lat Real'], lineq7, color='red')\n",
    "plt.savefig(f\"Northern Hemisphere Humidity Vs Latitude {day}.png\")"
   ]
  },
  {
   "cell_type": "markdown",
   "metadata": {},
   "source": [
    "####  Southern Hemisphere - Humidity (%) vs. Latitude Linear Regression"
   ]
  },
  {
   "cell_type": "code",
   "execution_count": null,
   "metadata": {},
   "outputs": [],
   "source": [
    "slope, intercept, rvalue, pvalue, stderr = st.linregress(southCities['Lat Real'], southCities['Humidity'])\n",
    "print(f'The r-value is {rvalue:0.4f}')\n",
    "scat8 = plt.scatter(southCities['Lat Real'], southCities['Humidity'])\n",
    "scat8 = plt.xlabel('Latitude')\n",
    "scat8 = plt.ylabel('Humidity (%)')\n",
    "scat8 = plt.title(f\"Southern Hemisphere Humidity vs Latitude on {day}\")\n",
    "scat8 = plt.grid(True)\n",
    "lineq8 = slope * southCities['Lat Real'] + intercept\n",
    "plt.plot(southCities['Lat Real'], lineq8, color='red')\n",
    "plt.savefig(f\"Southern Hemisphere Humidity Vs Latitude {day}.png\")"
   ]
  },
  {
   "cell_type": "markdown",
   "metadata": {},
   "source": [
    "####  Northern Hemisphere - Cloudiness (%) vs. Latitude Linear Regression"
   ]
  },
  {
   "cell_type": "code",
   "execution_count": null,
   "metadata": {},
   "outputs": [],
   "source": [
    "slope, intercept, rvalue, pvalue, stderr = st.linregress(northCities['Lat Real'], northCities['Cloudiness'])\n",
    "print(f'The r-value is {rvalue:0.4f}')\n",
    "scat9 = plt.scatter(northCities['Lat Real'], northCities['Cloudiness'])\n",
    "scat9 = plt.xlabel('Latitude')\n",
    "scat9 = plt.ylabel('Cloudiness (%)')\n",
    "scat9 = plt.title(f\"Northern Hemisphere Cloudiness vs Latitude on {day}\")\n",
    "scat9 = plt.grid(True)\n",
    "lineq9 = slope * northCities['Lat Real'] + intercept\n",
    "plt.plot(northCities['Lat Real'], lineq9, color='red')\n",
    "plt.savefig(f\"Northern Hemisphere Cloudiness Vs Latitude {day}.png\")"
   ]
  },
  {
   "cell_type": "markdown",
   "metadata": {},
   "source": [
    "####  Southern Hemisphere - Cloudiness (%) vs. Latitude Linear Regression"
   ]
  },
  {
   "cell_type": "code",
   "execution_count": null,
   "metadata": {},
   "outputs": [],
   "source": [
    "slope, intercept, rvalue, pvalue, stderr = st.linregress(southCities['Lat Real'], southCities['Cloudiness'])\n",
    "print(f'The r-value is {rvalue:0.4f}')\n",
    "scat10 = plt.scatter(southCities['Lat Real'], southCities['Cloudiness'])\n",
    "scat10 = plt.xlabel('Latitude')\n",
    "scat10 = plt.ylabel('Cloudiness (%)')\n",
    "scat10 = plt.title(f\"Southern Hemisphere Cloudiness vs Latitude on {day}\")\n",
    "scat10 = plt.grid(True)\n",
    "lineq10 = slope * southCities['Lat Real'] + intercept\n",
    "plt.plot(southCities['Lat Real'], lineq10, color='red')\n",
    "plt.savefig(f\"Southern Hemisphere Cloudiness Vs Latitude {day}.png\")"
   ]
  },
  {
   "cell_type": "markdown",
   "metadata": {},
   "source": [
    "####  Northern Hemisphere - Wind Speed (mph) vs. Latitude Linear Regression"
   ]
  },
  {
   "cell_type": "code",
   "execution_count": null,
   "metadata": {},
   "outputs": [],
   "source": [
    "slope, intercept, rvalue, pvalue, stderr = st.linregress(northCities['Lat Real'], northCities['Wind Speed'])\n",
    "print(f'The r-value is {rvalue:0.4f}')\n",
    "scat11 = plt.scatter(northCities['Lat Real'], northCities['Wind Speed'])\n",
    "scat11 = plt.xlabel('Latitude')\n",
    "scat11 = plt.ylabel('Wind Speed (mph)')\n",
    "scat11 = plt.title(f\"northern Hemisphere Wind Speed vs Latitude on {day}\")\n",
    "scat11 = plt.grid(True)\n",
    "lineq11 = slope * northCities['Lat Real'] + intercept\n",
    "plt.plot(northCities['Lat Real'], lineq11, color='red')\n",
    "plt.savefig(f\"Northern Hemisphere Wind Speed Vs Latitude {day}.png\")"
   ]
  },
  {
   "cell_type": "markdown",
   "metadata": {},
   "source": [
    "####  Southern Hemisphere - Wind Speed (mph) vs. Latitude Linear Regression"
   ]
  },
  {
   "cell_type": "code",
   "execution_count": null,
   "metadata": {},
   "outputs": [],
   "source": [
    "slope, intercept, rvalue, pvalue, stderr = st.linregress(southCities['Lat Real'], southCities['Wind Speed'])\n",
    "print(f'The r-value is {rvalue:0.4f}')\n",
    "scat9 = plt.scatter(southCities['Lat Real'], southCities['Wind Speed'])\n",
    "scat9 = plt.xlabel('Latitude')\n",
    "scat9 = plt.ylabel('Wind Speed (%)')\n",
    "scat9 = plt.title(f\"Southern Hemisphere Wind Speed vs Latitude on {day}\")\n",
    "scat9 = plt.grid(True)\n",
    "lineq9 = slope * southCities['Lat Real'] + intercept\n",
    "plt.plot(southCities['Lat Real'], lineq9, color='red')\n",
    "plt.savefig(f\"Southern Hemisphere Wind Speed Vs Latitude {day}.png\")"
   ]
  },
  {
   "cell_type": "code",
   "execution_count": null,
   "metadata": {},
   "outputs": [],
   "source": []
  }
 ],
 "metadata": {
  "anaconda-cloud": {},
  "kernel_info": {
   "name": "python3"
  },
  "kernelspec": {
   "display_name": "Python 3",
   "language": "python",
   "name": "python3"
  },
  "language_info": {
   "codemirror_mode": {
    "name": "ipython",
    "version": 3
   },
   "file_extension": ".py",
   "mimetype": "text/x-python",
   "name": "python",
   "nbconvert_exporter": "python",
   "pygments_lexer": "ipython3",
   "version": "3.8.3"
  },
  "latex_envs": {
   "LaTeX_envs_menu_present": true,
   "autoclose": false,
   "autocomplete": true,
   "bibliofile": "biblio.bib",
   "cite_by": "apalike",
   "current_citInitial": 1,
   "eqLabelWithNumbers": true,
   "eqNumInitial": 1,
   "hotkeys": {
    "equation": "Ctrl-E",
    "itemize": "Ctrl-I"
   },
   "labels_anchors": false,
   "latex_user_defs": false,
   "report_style_numbering": false,
   "user_envs_cfg": false
  },
  "nteract": {
   "version": "0.12.3"
  }
 },
 "nbformat": 4,
 "nbformat_minor": 2
}
